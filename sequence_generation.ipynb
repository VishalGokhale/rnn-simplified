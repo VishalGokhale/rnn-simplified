{
  "nbformat": 4,
  "nbformat_minor": 0,
  "metadata": {
    "kernelspec": {
      "display_name": "Python 3",
      "language": "python",
      "name": "python3"
    },
    "language_info": {
      "codemirror_mode": {
        "name": "ipython",
        "version": 3
      },
      "file_extension": ".py",
      "mimetype": "text/x-python",
      "name": "python",
      "nbconvert_exporter": "python",
      "pygments_lexer": "ipython3",
      "version": "3.7.3"
    },
    "colab": {
      "name": "sequence_generation.ipynb",
      "provenance": []
    }
  },
  "cells": [
    {
      "cell_type": "markdown",
      "metadata": {
        "id": "EDfLZba9D9Ak",
        "colab_type": "text"
      },
      "source": [
        " ### Important:\n",
        " If you are running the exercise on google colab do the following steps:\n",
        " \n",
        "\n",
        "1.   Download the files __utility_functions.py__ and __villages.txt__ from [github-repo](https://github.com/VishalGokhale/rnn-simplified)\n",
        "2.   Click the  '>' button in the left panel in this window. \n",
        "3.   Upload the 2 files downloaded to google colab.\n",
        "4.   Click Refresh\n",
        "5.   Run the cell below. Should run without errors"
      ]
    },
    {
      "cell_type": "code",
      "metadata": {
        "id": "0VD2sn2yCuan",
        "colab_type": "code",
        "colab": {}
      },
      "source": [
        "from utility_functions import *\n",
        "filepath = './villages.txt'\n",
        "data, chars, data_size, vocab_size = read_data(filepath)\n",
        "print('There are %d total characters and %d unique characters in your data.' % (data_size, vocab_size))"
      ],
      "execution_count": 0,
      "outputs": []
    },
    {
      "cell_type": "code",
      "metadata": {
        "id": "OhDMeLS9Cuau",
        "colab_type": "code",
        "colab": {}
      },
      "source": [
        "import numpy as np"
      ],
      "execution_count": 0,
      "outputs": []
    },
    {
      "cell_type": "code",
      "metadata": {
        "id": "1A_1-tbxCuaz",
        "colab_type": "code",
        "colab": {}
      },
      "source": [
        "filepath = './villages.txt'"
      ],
      "execution_count": 0,
      "outputs": []
    },
    {
      "cell_type": "code",
      "metadata": {
        "id": "s5--aQUBCua2",
        "colab_type": "code",
        "colab": {}
      },
      "source": [
        "data, chars, data_size, vocab_size = read_data(filepath)\n",
        "print('There are %d total characters and %d unique characters in your data.' % (data_size, vocab_size))"
      ],
      "execution_count": 0,
      "outputs": []
    },
    {
      "cell_type": "code",
      "metadata": {
        "id": "WZOtvfxUCua4",
        "colab_type": "code",
        "colab": {}
      },
      "source": [
        "char_to_index, index_to_char = sampling_utils(chars)"
      ],
      "execution_count": 0,
      "outputs": []
    },
    {
      "cell_type": "code",
      "metadata": {
        "id": "YsGKXTPgCua8",
        "colab_type": "code",
        "colab": {}
      },
      "source": [
        "print(\"Index to character mapping:\\n\",index_to_char)\n",
        "print(\"Character to Index mapping (Reverse of Index to Character mapping):\\n\",char_to_index)"
      ],
      "execution_count": 0,
      "outputs": []
    },
    {
      "cell_type": "code",
      "metadata": {
        "id": "qPnRZeYXCua-",
        "colab_type": "code",
        "colab": {}
      },
      "source": [
        "#Complete this function \n",
        "def forward_pass_one_element(parameters, a_prev, x):\n",
        "    \n",
        "    Waa, Wax, Wya, by, b = parameters['Waa'], parameters['Wax'], parameters['Wya'], parameters['by'], parameters['b']\n",
        "    a_next = np.tanh(np.dot(Wax, x) + np.dot(Waa,a_prev) + b) # complete this line\n",
        "    p_t = np.dot(Wya, a_next) + by      # unnormalized log probabilities for next chars\n",
        "    p_t = softmax(p_t)                  # probabilities for next chars\n",
        "\n",
        "    return a_next, p_t"
      ],
      "execution_count": 0,
      "outputs": []
    },
    {
      "cell_type": "code",
      "metadata": {
        "id": "H63TCeUuCubC",
        "colab_type": "code",
        "colab": {}
      },
      "source": [
        "def rnn_forward_one_sequence(X, Y, a0, parameters, vocab_size = 27):\n",
        "    \n",
        "    # Initialize x, a and y_hat as empty dictionaries\n",
        "    x, a, y_hat = {}, {}, {}\n",
        "    a[-1] = np.copy(a0)\n",
        "    # initialize your loss to 0\n",
        "    loss = 0\n",
        "    \n",
        "    for t in range(len(X)):\n",
        "        # Set x[t] to be the one-hot vector representation of the t'th character in X.\n",
        "        # if X[t] == None, we just have x[t]=0.\n",
        "        # This is used to set the input for the first timestep to the zero vector.\n",
        "        x[t] = np.zeros((vocab_size,1)) \n",
        "        if (X[t] != None):\n",
        "            x[t][X[t]] = 1\n",
        "        \n",
        "        # Run one step forward of the RNN\n",
        "        a[t], y_hat[t] = forward_pass_one_element(parameters, a[t - 1], x[t])\n",
        "        \n",
        "        # Update the loss by substracting the cross-entropy term of this time-step from it.\n",
        "        loss -= np.log(y_hat[t][Y[t],0])\n",
        "        \n",
        "    cache = (y_hat, a, x)\n",
        "        \n",
        "    return loss, cache"
      ],
      "execution_count": 0,
      "outputs": []
    },
    {
      "cell_type": "code",
      "metadata": {
        "id": "kl4KW5LbCubG",
        "colab_type": "code",
        "colab": {}
      },
      "source": [
        "def rnn_step_backward(dy, gradients, parameters, x, a, a_prev):\n",
        "\n",
        "    gradients['dWya'] += np.dot(dy, a.T)\n",
        "    gradients['dby'] += dy\n",
        "    da = np.dot(parameters['Wya'].T, dy) + gradients['da_next'] # backprop into h\n",
        "    daraw = (1 - a * a) * da # backprop through tanh nonlinearity\n",
        "    gradients['db'] += daraw\n",
        "    gradients['dWax'] += np.dot(daraw, x.T)\n",
        "    gradients['dWaa'] += np.dot(daraw, a_prev.T)\n",
        "    gradients['da_next'] = np.dot(parameters['Waa'].T, daraw)\n",
        "    return gradients"
      ],
      "execution_count": 0,
      "outputs": []
    },
    {
      "cell_type": "code",
      "metadata": {
        "id": "-u5EQE2SCubI",
        "colab_type": "code",
        "colab": {}
      },
      "source": [
        "#Complete this function\n",
        "def initialize_parameters(n_a, n_x, n_y):\n",
        "    np.random.seed(1)\n",
        "    Wax = np.random.randn(n_a, n_x)*0.01 # input to hidden\n",
        "    Waa = np.random.randn(n_a, n_a)*0.01 # hidden to hidden\n",
        "    Wya = np.random.randn(n_y, n_a)*0.01 # hidden to output\n",
        "    b = np.zeros((n_a, 1)) # hidden bias\n",
        "    by = np.zeros((n_y, 1)) # output bias\n",
        "\n",
        "    parameters = {\"Wax\": Wax, \"Waa\": Waa, \"Wya\": Wya, \"b\": b,\"by\": by}\n",
        "\n",
        "    return parameters"
      ],
      "execution_count": 0,
      "outputs": []
    },
    {
      "cell_type": "code",
      "metadata": {
        "id": "DDH7qmEECubL",
        "colab_type": "code",
        "colab": {}
      },
      "source": [
        "def update_parameters(parameters, gradients, lr):\n",
        "\n",
        "    parameters['Wax'] += - lr*gradients['dWax'] # complete this line\n",
        "    parameters['Waa'] += - lr*gradients['dWaa'] # complete this line\n",
        "    parameters['Wya'] += - lr*gradients['dWya'] # complete this line\n",
        "    parameters['b']  += - lr*gradients['db'] # complete this line\n",
        "    parameters['by']  += - lr*gradients['dby'] # complete this line\n",
        "\n",
        "    return parameters"
      ],
      "execution_count": 0,
      "outputs": []
    },
    {
      "cell_type": "code",
      "metadata": {
        "id": "k7kAmjIVCubO",
        "colab_type": "code",
        "colab": {}
      },
      "source": [
        "# Complete this function\n",
        "def optimize(X, Y, a_prev, parameters, learning_rate = 0.01):\n",
        "    # Forward propagate through time\n",
        "    loss, cache = rnn_forward_one_sequence(X, Y, a_prev, parameters, vocab_size)\n",
        "\n",
        "    # Backpropagate through time\n",
        "    gradients, a = rnn_backward(X, Y, parameters, cache)\n",
        "\n",
        "    # Clip your gradients between -5 (min) and 5 (max)\n",
        "    gradients = clip_to_plus_minus_5(gradients) #{key:np.clip(gradient, -5, 5, gradient) for key,gradient in gradients.items() }\n",
        "\n",
        "    # Update parameters\n",
        "    parameters = update_parameters(parameters, gradients, learning_rate)\n",
        "    return loss, gradients, a[len(X)-1]"
      ],
      "execution_count": 0,
      "outputs": []
    },
    {
      "cell_type": "code",
      "metadata": {
        "id": "dqFlPlsiCubR",
        "colab_type": "code",
        "colab": {}
      },
      "source": [
        "def model(data, index_to_char, char_to_index, num_iterations = 2000, n_a = 50, no_of_sequences = 15, vocab_size = 27, lr = 0.01):\n",
        "    # Retrieve n_x and n_y from vocab_size\n",
        "    n_x, n_y = vocab_size, vocab_size\n",
        "\n",
        "    # Initialize parameters\n",
        "    parameters = initialize_parameters(n_a, n_x, n_y)\n",
        "\n",
        "    # Initialize loss\n",
        "    loss = get_initial_loss(vocab_size, no_of_sequences)\n",
        "\n",
        "    # Build list of all bird names (training examples).\n",
        "    with open(filepath) as f:\n",
        "        examples = f.readlines()\n",
        "    examples = [x.lower().strip() for x in examples]\n",
        "\n",
        "    # Shuffle list of all bird names\n",
        "    np.random.seed(0)\n",
        "    np.random.shuffle(examples)\n",
        "\n",
        "    # Initialize the hidden state of your RNN\n",
        "    a_prev = np.zeros((n_a, 1))\n",
        "\n",
        "    # Optimization loop\n",
        "    for j in range(num_iterations):\n",
        "        # Use the hint above to define one training example (X,Y)\n",
        "        index = j % len(examples)\n",
        "        X = [None] + [char_to_index[ch] for ch in examples[index]]\n",
        "        Y = X[1:] + [char_to_index[\"\\n\"]]\n",
        "\n",
        "        # Perform one optimization step: Forward-prop -> Backward-prop -> Clip -> Update parameters\n",
        "        # Choose a learning rate of 0.01\n",
        "        curr_loss, gradients, a_prev = optimize(X, Y, a_prev, parameters, learning_rate = lr)\n",
        "\n",
        "        # Use a latency trick to keep the loss smooth. It happens here to accelerate the training.\n",
        "        loss = smooth(loss, curr_loss)\n",
        "        print('Iteration: %d, Loss: %f' % (j, loss) + '\\n')\n",
        "\n",
        "        # Every check_pt iterations,\n",
        "        # generate \"n\" characters thanks to sample() to check if the model is learning properly\n",
        "        check_pt = 3000\n",
        "        if j %  check_pt == 0:\n",
        "            generate_sequences(no_of_sequences, char_to_index, index_to_char, parameters)\n",
        "\n",
        "    return parameters"
      ],
      "execution_count": 0,
      "outputs": []
    },
    {
      "cell_type": "code",
      "metadata": {
        "id": "IbZ08gB9CubV",
        "colab_type": "code",
        "colab": {}
      },
      "source": [
        "def rnn_backward(X, Y, parameters, cache):\n",
        "    # Initialize gradients as an empty dictionary\n",
        "    gradients = {}\n",
        "\n",
        "    # Retrieve from cache and parameters\n",
        "    (y_hat, a, x) = cache\n",
        "    Waa, Wax, Wya, by, b = parameters['Waa'], parameters['Wax'], parameters['Wya'], parameters['by'], parameters['b']\n",
        "\n",
        "    # each one should be initialized to zeros of the same dimension as its corresponding parameter\n",
        "    gradients['dWax'], gradients['dWaa'], gradients['dWya'] = np.zeros_like(Wax), np.zeros_like(Waa), np.zeros_like(Wya)\n",
        "    gradients['db'], gradients['dby'] = np.zeros_like(b), np.zeros_like(by)\n",
        "    gradients['da_next'] = np.zeros_like(a[0])\n",
        "\n",
        "    # Backpropagate through time\n",
        "    for t in reversed(range(len(X))):\n",
        "        dy = np.copy(y_hat[t])\n",
        "        dy[Y[t]] -= 1\n",
        "        gradients = rnn_step_backward(dy, gradients, parameters, x[t], a[t], a[t-1])\n",
        "    return gradients, a"
      ],
      "execution_count": 0,
      "outputs": []
    },
    {
      "cell_type": "code",
      "metadata": {
        "id": "SLThNZXgCubY",
        "colab_type": "code",
        "colab": {}
      },
      "source": [
        "parameters = model(data, index_to_char, char_to_index, num_iterations=10, vocab_size=vocab_size)"
      ],
      "execution_count": 0,
      "outputs": []
    },
    {
      "cell_type": "code",
      "metadata": {
        "id": "2BZcm2prCuba",
        "colab_type": "code",
        "colab": {}
      },
      "source": [
        "print_sample(sample(parameters, char_to_index, 200), index_to_char)"
      ],
      "execution_count": 0,
      "outputs": []
    },
    {
      "cell_type": "code",
      "metadata": {
        "id": "HiKF7H-tDB3u",
        "colab_type": "code",
        "colab": {}
      },
      "source": [
        ""
      ],
      "execution_count": 0,
      "outputs": []
    }
  ]
}